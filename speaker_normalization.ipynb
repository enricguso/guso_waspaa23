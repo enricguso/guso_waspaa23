{
 "cells": [
  {
   "cell_type": "code",
   "execution_count": null,
   "id": "37a8a027",
   "metadata": {},
   "outputs": [],
   "source": [
    "import numpy as np\n",
    "import soundfile as sf\n",
    "\n",
    "inpaths = ['speaker_versions/normal/sharvard-target1-30deg_meeting_spk_snr5_48000hz_normal.wav',\n",
    "           'speaker_versions/normal/sharvard-target1-30deg_party_spk_snr5_48000hz_normal.wav',\n",
    "           'speaker_versions/normal/sharvard-target1-30deg_restaurant_spk_snr5_48000hz_normal.wav',\n",
    "           'speaker_versions/normal/sharvard-target1-0deg_restaurant_spk_snr5_48000hz_normal.wav',\n",
    "           'speaker_versions/normal/sharvard-target1-0deg_party_spk_snr5_48000hz_normal.wav',\n",
    "           'speaker_versions/normal/sharvard-target1-0deg_meeting_spk_snr5_48000hz_normal.wav',\n",
    "           \n",
    "           'speaker_versions/inverse/sharvard-target1-30deg_restaurant_spk_snr5_48000hz_inverse.wav',\n",
    "           'speaker_versions/inverse/sharvard-target1-30deg_meeting_spk_snr5_48000hz_inverse.wav',\n",
    "           'speaker_versions/inverse/sharvard-target1-30deg_party_spk_snr5_48000hz_inverse.wav',\n",
    "           'speaker_versions/inverse/sharvard-target1-0deg_party_spk_snr5_48000hz_inverse.wav',\n",
    "           'speaker_versions/inverse/sharvard-target1-0deg_restaurant_spk_snr5_48000hz_inverse.wav',\n",
    "           'speaker_versions/inverse/sharvard-target1-0deg_meeting_spk_snr5_48000hz_inverse.wav']"
   ]
  },
  {
   "cell_type": "code",
   "execution_count": null,
   "id": "e7da35f2",
   "metadata": {},
   "outputs": [],
   "source": [
    "nrgys = []\n",
    "audios = []\n",
    "for path in inpaths:\n",
    "    audio, fs = sf.read(path)\n",
    "    audios.append(audio)\n",
    "    nrgys.append((audio ** 2).sum())"
   ]
  },
  {
   "cell_type": "code",
   "execution_count": null,
   "id": "8345a125",
   "metadata": {},
   "outputs": [],
   "source": [
    "nrgys"
   ]
  },
  {
   "cell_type": "code",
   "execution_count": null,
   "id": "ed610048",
   "metadata": {},
   "outputs": [],
   "source": []
  },
  {
   "cell_type": "code",
   "execution_count": null,
   "id": "525e6f37",
   "metadata": {},
   "outputs": [],
   "source": []
  },
  {
   "cell_type": "code",
   "execution_count": null,
   "id": "46946fd9",
   "metadata": {},
   "outputs": [],
   "source": [
    "for i, path in enumerate(inpaths):\n",
    "    audio = audios[i]\n",
    "    audio *= np.sqrt(min(nrgys) / \n",
    "                     ((audio**2).sum()) )\n",
    "    sf.write(path, audio, fs, subtype='FLOAT')"
   ]
  },
  {
   "cell_type": "code",
   "execution_count": null,
   "id": "f846ecbf",
   "metadata": {},
   "outputs": [],
   "source": []
  }
 ],
 "metadata": {
  "kernelspec": {
   "display_name": "ha_ex",
   "language": "python",
   "name": "ha_ex"
  },
  "language_info": {
   "codemirror_mode": {
    "name": "ipython",
    "version": 3
   },
   "file_extension": ".py",
   "mimetype": "text/x-python",
   "name": "python",
   "nbconvert_exporter": "python",
   "pygments_lexer": "ipython3",
   "version": "3.7.7"
  }
 },
 "nbformat": 4,
 "nbformat_minor": 5
}

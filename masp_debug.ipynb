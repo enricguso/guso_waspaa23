{
 "cells": [
  {
   "cell_type": "code",
   "execution_count": null,
   "metadata": {},
   "outputs": [],
   "source": [
    "import masp as srs\n",
    "import numpy as np\n",
    "import soundfile as sf\n",
    "from IPython.display import Audio\n",
    "import scipy.signal as sig\n",
    "import pandas as pd\n",
    "from os.path import join as pjoin\n",
    "from multiprocessing import Pool\n",
    "import matplotlib.pyplot as plt\n",
    "import pyrubberband as pyrb\n",
    "from multiprocessing import Pool\n",
    "import helpers as hlp\n",
    "import importlib\n",
    "importlib.reload(hlp);\n",
    "import argparse\n",
    "\n",
    "fs_rir = 48000\n",
    "fs_target = 48000\n",
    "ambi_order = 1\n",
    "rims_d = .0 # Displacement for Randomized Image Source method\n",
    "maxlim = 2. # Maximum reverberation time\n",
    "band_centerfreqs=np.array([32,63,125,250,500,1000,2000,4000,8000,16000]) #change this for multiband\n",
    "rt60 =np.array([0.8445001280548805, 0.4183348018766204, 0.4929216438072096, 0.3504161388991753, 0.32336034680502135, 0.6314508961879481, 0.13069006354390814, 0.12669254582680198, 0.23500189168669827, 0.3409718173450506])\n",
    "mic = np.array([[0.5455,\t1.3333,\t0.8333]])\n",
    "room = np.array([6, 4, 2.5])\n",
    "src = np.array([[0.5455,\t0.6667,\t0.8333]])"
   ]
  },
  {
   "cell_type": "code",
   "execution_count": null,
   "metadata": {},
   "outputs": [],
   "source": [
    "limits = np.minimum(rt60, maxlim)"
   ]
  },
  {
   "cell_type": "code",
   "execution_count": null,
   "metadata": {},
   "outputs": [],
   "source": [
    "# Compute absorption coefficients for desired rt60 and room dimensions\n",
    "abs_walls,rt60_true = srs.find_abs_coeffs_from_rt(room, rt60)\n",
    "# Small correction for sound absorption coefficients:\n",
    "    if sum(rt60_true-rt60>0.05*rt60_true)>0 :\n",
    "        abs_walls,rt60_true = srs.find_abs_coeffs_from_rt(room, rt60_true + abs(rt60-rt60_true))\n",
    "\n",
    "# Small correction for sound absorption coefficients:\n",
    "#if sum(rt60_true-rt60>0.05*rt60_true)>0 :\n",
    "#    abs_walls,rt60_true = srs.find_abs_coeffs_from_rt(room, rt60_true + abs(rt60-rt60_true))\n"
   ]
  },
  {
   "cell_type": "code",
   "execution_count": null,
   "metadata": {},
   "outputs": [],
   "source": [
    " # Compute IRs with MASP at 48k:\n",
    "#abs_echograms = srs.compute_echograms_sh(room, src, mic, abs_walls, limits, ambi_order, 0.0, np.array([0,0]))\n",
    "abs_echograms = srs.compute_echograms_sh(room, src, mic, abs_walls, limits, ambi_order, np.array([0,0]))\n",
    "#abs_echograms2 = srsold.compute_echograms_sh(room, src, mic, abs_walls, limits, ambi_order, 0., np.array([0.,0.]))\n",
    "\n"
   ]
  },
  {
   "cell_type": "code",
   "execution_count": null,
   "metadata": {},
   "outputs": [],
   "source": [
    "mic_rirs = srs.render_rirs_sh(abs_echograms, band_centerfreqs, fs_rir)/np.sqrt(4*np.pi)\n",
    "#mic_rirs_andresrepo = np.load('mic_rirs_andresrepo.npy')"
   ]
  },
  {
   "cell_type": "code",
   "execution_count": null,
   "metadata": {},
   "outputs": [],
   "source": [
    "plt.subplot(4,1,1)\n",
    "plt.plot(mic_rirs[500:1100,0,0,0])\n",
    "plt.ylim([-0.1, 0.1])\n",
    "plt.subplot(4,1,2)\n",
    "plt.plot(mic_rirs[500:1100,1,0,0])\n",
    "plt.ylim([-0.1, 0.1])\n",
    "\n",
    "plt.subplot(4,1,3)\n",
    "plt.plot(mic_rirs[500:1100,2,0,0])\n",
    "plt.ylim([-0.1, 0.1])\n",
    "\n",
    "plt.subplot(4,1,4)\n",
    "plt.plot(mic_rirs[500:1100,3,0,0])\n",
    "plt.ylim([-0.1, 0.1])\n",
    "plt.tight_layout()"
   ]
  },
  {
   "cell_type": "code",
   "execution_count": null,
   "metadata": {},
   "outputs": [],
   "source": []
  }
 ],
 "metadata": {
  "kernelspec": {
   "display_name": "LibriMix3D",
   "language": "python",
   "name": "python3"
  },
  "language_info": {
   "codemirror_mode": {
    "name": "ipython",
    "version": 3
   },
   "file_extension": ".py",
   "mimetype": "text/x-python",
   "name": "python",
   "nbconvert_exporter": "python",
   "pygments_lexer": "ipython3",
   "version": "3.8.10"
  }
 },
 "nbformat": 4,
 "nbformat_minor": 2
}

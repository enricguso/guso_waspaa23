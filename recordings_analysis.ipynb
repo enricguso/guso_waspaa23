{
 "cells": [
  {
   "cell_type": "code",
   "execution_count": null,
   "metadata": {},
   "outputs": [],
   "source": [
    "import os\n",
    "from scipy.io import wavfile\n",
    "import pandas as pd\n",
    "import numpy as np\n",
    "import scipy.fft\n",
    "import matplotlib.pyplot as plt\n",
    "\n",
    "# import my modules (helpers.py where I stored all the functions):\n",
    "import helpers as hlp\n",
    "import importlib\n",
    "importlib.reload(hlp);"
   ]
  },
  {
   "cell_type": "code",
   "execution_count": null,
   "metadata": {},
   "outputs": [],
   "source": [
    "# directory with the recorded files\n",
    "data_source_path='/Users/joanna.luberadzka/Projects/microson_v1_data/ku_recordings/'\n",
    "\n",
    "# directory where to store cropped recordings:\n",
    "data_save_path=data_source_path"
   ]
  },
  {
   "cell_type": "code",
   "execution_count": null,
   "metadata": {},
   "outputs": [],
   "source": [
    "# For each recording, create a sub-directory with cropped files\n",
    "\n",
    "markers_sec=[0,32,64,96,128,160,192,224,256,288,320,352,384]\n",
    "names=['plus_party_0deg','minus_party_0deg','plus_party_30deg','minus_party_30deg',\n",
    "       'plus_restaurant_0deg','minus_restaurant_0deg','plus_restaurant_30deg','minus_restaurant_30deg',\n",
    "       'plus_meeting_0deg','minus_meeting_0deg','plus_meeting_30deg','minus_meeting_30deg']\n",
    "\n",
    "for filename in sorted(os.listdir(data_source_path)):\n",
    "    if filename.endswith(\".wav\"):\n",
    "        fs, data = wavfile.read(data_source_path+filename)\n",
    "        # if its a mono file (measurement mic) - make a stereo, so that further code can be easily used\n",
    "        if len(data.shape)<2:\n",
    "            data=np.array([data,data]).T\n",
    "        recording_name=os.path.splitext(filename)[0]\n",
    "        recording_save_path=data_save_path+recording_name\n",
    "        os.makedirs(recording_save_path,exist_ok=True)\n",
    "        for j in range(0,len(markers_sec)-1):\n",
    "            start_idx=markers_sec[j]*fs\n",
    "            stop_idx=markers_sec[j+1]*fs\n",
    "            crop_data=data[start_idx:stop_idx,:]\n",
    "            crop_name=recording_name+'_'+names[j]+'.wav'\n",
    "            wavfile.write(recording_save_path+'/'+crop_name,fs,crop_data)\n"
   ]
  },
  {
   "cell_type": "code",
   "execution_count": null,
   "metadata": {},
   "outputs": [],
   "source": [
    "# Create a data frame with SNR estimates\n",
    "\n",
    "scenes=['party_0deg','party_30deg','restaurant_0deg','restaurant_30deg','meeting_0deg','meeting_30deg']\n",
    "hearing_aid_snr=pd.DataFrame(columns=['recording','scene','snr_left', 'snr_right','snr_both'])\n",
    "for item in sorted(os.listdir(data_save_path)):\n",
    "    if os.path.isdir(data_save_path+item):\n",
    "        recording_name=item\n",
    "        for scene in scenes:\n",
    "            fs, plus = wavfile.read(data_source_path+recording_name+'/'+recording_name+'_plus_'+scene+'.wav')\n",
    "            fs, minus = wavfile.read(data_source_path+recording_name+'/'+recording_name+'_minus_'+scene+'.wav')\n",
    "            s=0.5*(plus+minus)\n",
    "            n=0.5*(plus-minus)\n",
    "            snr_left = 10 * np.log10(hlp.power(s[:,0]) / hlp.power(n[:,0]))\n",
    "            snr_right = 10 * np.log10(hlp.power(s[:,1]) / hlp.power(n[:,1]))\n",
    "            snr_both =10 * np.log10(hlp.power(s) / hlp.power(n))\n",
    "            new_row=pd.Series({'recording':recording_name,'scene':scene,'snr_left': snr_left, 'snr_right':snr_right,'snr_both':snr_both})\n",
    "            hearing_aid_snr=pd.concat([hearing_aid_snr, new_row.to_frame().T], ignore_index=True)\n",
    "\n",
    "\n",
    "hearing_aid_snr.to_csv(data_save_path+'hearing_aid_snr.csv')"
   ]
  },
  {
   "cell_type": "code",
   "execution_count": null,
   "metadata": {},
   "outputs": [],
   "source": [
    "hearing_aid_snr"
   ]
  },
  {
   "cell_type": "code",
   "execution_count": null,
   "metadata": {},
   "outputs": [],
   "source": [
    "# Create a data frame with benefit estimates (difference in snr between bypass and enabled)\n",
    "enabled=hearing_aid_snr[hearing_aid_snr[\"recording\"].str.contains(\"enabled\")]\n",
    "\n",
    "bypass=hearing_aid_snr[hearing_aid_snr[\"recording\"].str.contains(\"bypass\")]\n",
    "ku100=hearing_aid_snr[hearing_aid_snr[\"recording\"].str.contains(\"001\")]\n",
    "ku100=ku100.append([ku100]*int(len(enabled)/6-1))\n",
    "\n",
    "hearing_aid_benefit=pd.DataFrame(columns=['rec1','rec2','scene',\n",
    "                                          'in_vs_bypass_left', 'in_vs_bypass_right',\n",
    "                                          'in_vs_enabled_left','in_vs_enabled_right',\n",
    "                                          'bypass_vs_enabled_left','bypass_vs_enabled_right'])\n",
    "\n",
    "hearing_aid_benefit['rec1']=bypass['recording'].values\n",
    "hearing_aid_benefit['rec2']=enabled['recording'].values\n",
    "hearing_aid_benefit['scene']=enabled['scene'].values  \n",
    "hearing_aid_benefit['in_vs_bypass_left']=bypass['snr_left'].values-ku100['snr_left'].values\n",
    "hearing_aid_benefit['in_vs_bypass_right']=bypass['snr_right'].values-ku100['snr_right'].values\n",
    "hearing_aid_benefit['in_vs_enabled_left']=enabled['snr_left'].values-ku100['snr_left'].values\n",
    "hearing_aid_benefit['in_vs_enabled_right']=enabled['snr_right'].values-ku100['snr_right'].values\n",
    "hearing_aid_benefit['bypass_vs_enabled_left']=enabled['snr_left'].values-bypass['snr_left'].values\n",
    "hearing_aid_benefit['bypass_vs_enabled_right']=enabled['snr_right'].values-bypass['snr_right'].values\n",
    "\n",
    "\n",
    "hearing_aid_benefit.to_csv(data_save_path+'hearing_aid_benefit.csv')"
   ]
  },
  {
   "cell_type": "code",
   "execution_count": null,
   "metadata": {},
   "outputs": [],
   "source": []
  }
 ],
 "metadata": {
  "kernelspec": {
   "display_name": "ha_enhancement_experiment",
   "language": "python",
   "name": "python3"
  },
  "language_info": {
   "codemirror_mode": {
    "name": "ipython",
    "version": 3
   },
   "file_extension": ".py",
   "mimetype": "text/x-python",
   "name": "python",
   "nbconvert_exporter": "python",
   "pygments_lexer": "ipython3",
   "version": "3.9.13"
  },
  "orig_nbformat": 4
 },
 "nbformat": 4,
 "nbformat_minor": 2
}

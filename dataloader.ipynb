{
 "cells": [
  {
   "cell_type": "code",
   "execution_count": 24,
   "id": "94bc8ba8",
   "metadata": {},
   "outputs": [],
   "source": [
    "import torch\n",
    "from torch.utils.data import Dataset, DataLoader\n",
    "import torchaudio\n",
    "from os.path import join as pjoin\n",
    "import os\n",
    "import numpy as np\n",
    "import pandas as pd\n",
    "\n",
    "class microson_v1_dataset(Dataset):\n",
    "    \"\"\"Face Landmarks dataset.\"\"\"\n",
    "\n",
    "    def __init__(self, root_dir, split):\n",
    "        \"\"\"\n",
    "        Args:\n",
    "            csv_file (string): Path to the csv file with annotations.\n",
    "            root_dir (string): Directory with all the images.\n",
    "            transform (callable, optional): Optional transform to be applied\n",
    "                on a sample.\n",
    "        \"\"\"\n",
    "        self.root_dir = root_dir\n",
    "        self.split = split\n",
    "        self.df = pd.read_csv(pjoin(root_dir, 'meta_microson_v1.csv'))\n",
    "        self.df = self.df[self.df['mls_split'] == split]\n",
    "\n",
    "    def __len__(self):\n",
    "        return len(self.df)\n",
    "\n",
    "    def __getitem__(self, idx):\n",
    "        row = self.df.iloc[idx]\n",
    "        wavname = os.path.splitext(row.speech_path)[0]+'.wav'\n",
    "        anechoic, _ = torchaudio.load(pjoin(pjoin(pjoin(self.root_dir, row.mls_split), 'anechoic'), wavname))\n",
    "        reverberant, _ = torchaudio.load(pjoin(pjoin(pjoin(self.root_dir, row.mls_split), 'reverberant'), wavname))\n",
    "        noise, _ = torchaudio.load(pjoin(pjoin(pjoin(self.root_dir, row.mls_split), 'noise'), wavname))\n",
    "\n",
    "        return anechoic, reverberant, noise\n"
   ]
  },
  {
   "cell_type": "code",
   "execution_count": 40,
   "id": "361e45f2",
   "metadata": {},
   "outputs": [],
   "source": [
    "hparams = {}\n",
    "hparams['bs'] = 3"
   ]
  },
  {
   "cell_type": "code",
   "execution_count": 38,
   "id": "0c24b661",
   "metadata": {},
   "outputs": [],
   "source": [
    "train_dataset = microson_v1_dataset('/home/ubuntu/Data/microson_v1', 'train')"
   ]
  },
  {
   "cell_type": "code",
   "execution_count": 41,
   "id": "dd2b602c",
   "metadata": {},
   "outputs": [],
   "source": [
    "train_loader = DataLoader(train_dataset, batch_size=hparams['bs'], shuffle=True)"
   ]
  },
  {
   "cell_type": "code",
   "execution_count": 42,
   "id": "9eb2729d",
   "metadata": {},
   "outputs": [
    {
     "name": "stdout",
     "output_type": "stream",
     "text": [
      "torch.Size([3, 2, 64000])\n"
     ]
    }
   ],
   "source": [
    "for anechoics, reverberants, noises in train_loader:\n",
    "    print(anechoics.shape)\n",
    "    break"
   ]
  },
  {
   "cell_type": "code",
   "execution_count": null,
   "id": "e31f1859",
   "metadata": {},
   "outputs": [],
   "source": []
  }
 ],
 "metadata": {
  "kernelspec": {
   "display_name": "LibriMix3D",
   "language": "python",
   "name": "librimix3d"
  },
  "language_info": {
   "codemirror_mode": {
    "name": "ipython",
    "version": 3
   },
   "file_extension": ".py",
   "mimetype": "text/x-python",
   "name": "python",
   "nbconvert_exporter": "python",
   "pygments_lexer": "ipython3",
   "version": "3.8.10"
  }
 },
 "nbformat": 4,
 "nbformat_minor": 5
}

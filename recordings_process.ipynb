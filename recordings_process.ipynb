{
 "cells": [
  {
   "cell_type": "code",
   "execution_count": 1,
   "metadata": {},
   "outputs": [],
   "source": [
    "import os\n",
    "import torchaudio \n",
    "import torch\n",
    "from tqdm import tqdm\n",
    "import numpy as np\n",
    "import sudo_rm_rf.groupcomm_sudormrf_v2 as sudormrf_gc_v2\n",
    "import sudo_rm_rf.causal_improved_sudormrf_v3 as causal_improved_sudormrf"
   ]
  },
  {
   "cell_type": "code",
   "execution_count": 2,
   "metadata": {},
   "outputs": [],
   "source": [
    "fs_model = 16000\n",
    "fs_recordings = 48000\n",
    "resampler = torchaudio.transforms.Resample(fs_recordings, fs_model).cuda()"
   ]
  },
  {
   "cell_type": "code",
   "execution_count": 3,
   "metadata": {},
   "outputs": [],
   "source": [
    "# Declare the model\n",
    "def process_recordings(model_path):\n",
    "    print('Processing: '+str(model_path))\n",
    "    modelname = os.path.basename(model_path)\n",
    "    if modelname.split('_')[-1] == 'causal':\n",
    "        model = causal_improved_sudormrf.CausalSuDORMRF(\n",
    "                in_audio_channels=2,\n",
    "                out_channels=512,\n",
    "                in_channels=256,\n",
    "                num_blocks=16,\n",
    "                upsampling_depth=5,\n",
    "                enc_kernel_size=21,\n",
    "                enc_num_basis=512,\n",
    "                num_sources=1)\n",
    "        causal = True\n",
    "    else:\n",
    "        model = sudormrf_gc_v2.GroupCommSudoRmRf(\n",
    "                in_audio_channels=2,\n",
    "                out_channels=512,\n",
    "                in_channels=256,\n",
    "                num_blocks=16,\n",
    "                upsampling_depth=5,\n",
    "                enc_kernel_size=21,\n",
    "                enc_num_basis=512,\n",
    "                num_sources=1)\n",
    "        causal = False\n",
    "\n",
    "    # Load checkpoint\n",
    "    checkpoint_name = os.listdir(model_path)\n",
    "    checkpoint_name.sort()\n",
    "    model_path = os.path.join(model_path, checkpoint_name[0])\n",
    "    model.load_state_dict(torch.load(model_path))\n",
    "    model = model.cuda()\n",
    "    model.eval();\n",
    "\n",
    "    main_path = '/home/ubuntu/Data/ha_listening_situations'\n",
    "    \n",
    "    recordings_path = os.path.join(os.path.join(main_path, 'recordings'), 'ku_recordings')\n",
    "    processed_path = os.path.join(os.path.join(main_path, 'processed_' + modelname), 'ku_processed')\n",
    "\n",
    "    dirs = [ name for name in os.listdir(recordings_path) if os.path.isdir(os.path.join(recordings_path, name)) ]\n",
    "\n",
    "    dirs.sort()\n",
    "\n",
    "    with torch.inference_mode(True):\n",
    "        for dir in tqdm(dirs):\n",
    "            dirpath = os.path.join(recordings_path, dir)\n",
    "            files = os.listdir(dirpath)\n",
    "            if not os.path.exists(os.path.join(processed_path, dir)):\n",
    "                os.makedirs(os.path.join(processed_path, dir))\n",
    "            for file in files:\n",
    "                mixture, fs = torchaudio.load(os.path.join(dirpath, file))\n",
    "                mixture = mixture.cuda()\n",
    "                mixture = resampler(mixture)\n",
    "                mixture = mixture.cuda()\n",
    "                ini_nrg = torch.sum(mixture ** 2)\n",
    "                mixture = (mixture - torch.mean(mixture)) / torch.std(mixture)\n",
    "                processed = model(mixture.unsqueeze(0))\n",
    "                processed /= torch.sqrt(torch.sum(processed ** 2) / ini_nrg)\n",
    "                torchaudio.save(os.path.join(os.path.join(processed_path, dir), file), processed[0].cpu(), sample_rate=fs_model)\n",
    "    print('Done processing '+str(model_path))\n",
    "    print(' . ')"
   ]
  },
  {
   "cell_type": "code",
   "execution_count": 4,
   "metadata": {},
   "outputs": [
    {
     "name": "stdout",
     "output_type": "stream",
     "text": [
      "Processing: /home/ubuntu/Data/enric_models/m1_alldata_normal\n"
     ]
    },
    {
     "name": "stderr",
     "output_type": "stream",
     "text": [
      "100%|███████████████████████████████████████████| 32/32 [01:47<00:00,  3.36s/it]\n"
     ]
    },
    {
     "name": "stdout",
     "output_type": "stream",
     "text": [
      "Done processing /home/ubuntu/Data/enric_models/m1_alldata_normal/gc_sudo_epoch_25\n",
      " . \n",
      "Processing: /home/ubuntu/Data/enric_models/m3_alldata_mild\n"
     ]
    },
    {
     "name": "stderr",
     "output_type": "stream",
     "text": [
      "100%|███████████████████████████████████████████| 32/32 [01:55<00:00,  3.61s/it]\n"
     ]
    },
    {
     "name": "stdout",
     "output_type": "stream",
     "text": [
      "Done processing /home/ubuntu/Data/enric_models/m3_alldata_mild/gc_sudo_epoch_25\n",
      " . \n",
      "Processing: /home/ubuntu/Data/enric_models/m4_alldata_normal_causal\n"
     ]
    },
    {
     "name": "stderr",
     "output_type": "stream",
     "text": [
      "100%|███████████████████████████████████████████| 32/32 [00:44<00:00,  1.39s/it]\n"
     ]
    },
    {
     "name": "stdout",
     "output_type": "stream",
     "text": [
      "Done processing /home/ubuntu/Data/enric_models/m4_alldata_normal_causal/gc_sudo_epoch_25\n",
      " . \n",
      "Processing: /home/ubuntu/Data/enric_models/m5_alldata_mild_causal\n"
     ]
    },
    {
     "name": "stderr",
     "output_type": "stream",
     "text": [
      "100%|███████████████████████████████████████████| 32/32 [00:43<00:00,  1.36s/it]"
     ]
    },
    {
     "name": "stdout",
     "output_type": "stream",
     "text": [
      "Done processing /home/ubuntu/Data/enric_models/m5_alldata_mild_causal/gc_sudo_epoch_24\n",
      " . \n"
     ]
    },
    {
     "name": "stderr",
     "output_type": "stream",
     "text": [
      "\n"
     ]
    }
   ],
   "source": [
    "\n",
    "process_recordings('pretrained_models/m1_alldata_normal')\n",
    "process_recordings('pretrained_models/m4_alldata_normal_causal')"
   ]
  }
 ],
 "metadata": {
  "kernelspec": {
   "display_name": "Python 3 (ipykernel)",
   "language": "python",
   "name": "python3"
  },
  "language_info": {
   "codemirror_mode": {
    "name": "ipython",
    "version": 3
   },
   "file_extension": ".py",
   "mimetype": "text/x-python",
   "name": "python",
   "nbconvert_exporter": "python",
   "pygments_lexer": "ipython3",
   "version": "3.8.10"
  }
 },
 "nbformat": 4,
 "nbformat_minor": 2
}

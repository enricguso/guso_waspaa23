{
 "cells": [
  {
   "cell_type": "code",
   "execution_count": null,
   "id": "d7c72a2b",
   "metadata": {},
   "outputs": [],
   "source": [
    "import mat73\n",
    "import soundfile as sf\n",
    "from IPython.display import Audio\n",
    "import scipy.signal as sig\n",
    "import numpy as np\n",
    "import sofar\n",
    "import scipy\n",
    "import matplotlib.pyplot as plt\n"
   ]
  },
  {
   "cell_type": "markdown",
   "id": "ca67a97a",
   "metadata": {},
   "source": [
    "# V1: notch filter designed by hand"
   ]
  },
  {
   "cell_type": "code",
   "execution_count": null,
   "id": "104217a4",
   "metadata": {},
   "outputs": [],
   "source": [
    "def bell(fc, fs, gain, Q):\n",
    "    wc = 2 * np.pi * fc / fs\n",
    "    c = 1.0 / np.tan(wc / 2.0)\n",
    "    phi = c*c\n",
    "    Knum = c / Q\n",
    "    Kdenom = Knum\n",
    "\n",
    "    if (gain > 1.0):\n",
    "        Knum *= gain\n",
    "    elif (gain < 1.0):\n",
    "        Kdenom /= gain\n",
    "\n",
    "    a0 = phi + Kdenom + 1.0\n",
    "\n",
    "    b = [(phi + Knum + 1.0) / a0, 2.0 *\n",
    "         (1.0 - phi) / a0, (phi - Knum + 1.0) / a0]\n",
    "    a = [1, 2.0 * (1.0 - phi) / a0, (phi - Kdenom + 1.0) / a0]\n",
    "\n",
    "    return np.asarray(b), np.asarray(a)"
   ]
  },
  {
   "cell_type": "code",
   "execution_count": null,
   "id": "5e9184f6",
   "metadata": {},
   "outputs": [],
   "source": [
    "def shelving(fc, sr, gain, slope):\n",
    "    omega= (fc / sr) * np.pi * 2.0\n",
    "    sn= np.sin(omega)\n",
    "    cs= np.cos(omega)\n",
    "    alpha = sn / 2.0 * np.sqrt((gain + 1.0/gain) * (1.0/slope - 1.0) + 2.0)\n",
    "\n",
    "    b=np.zeros(3) # umerator(bunsi)\n",
    "    a=np.zeros(3) # denominator(bunbo)\n",
    "\n",
    "    a[0]= ((gain + 1.0 ) - (gain - 1.0) * cs + 2.0 * np.sqrt(gain) * alpha)\n",
    "    a[1]= 2.0 * (( gain - 1.0) - ( gain + 1.0) * cs)\n",
    "    a[2]= ((gain + 1.0) - (gain - 1.0 ) * cs - 2.0 * np.sqrt( gain) * alpha )\n",
    "\n",
    "    b[0]= gain * ((gain +1.0 ) + (gain - 1.0) * cs + 2.0 * np.sqrt(gain) * alpha )\n",
    "    b[1]= -2.0 * gain * ((gain - 1.0) + (gain + 1.0 ) * cs)\n",
    "    b[2]= gain * ((gain + 1.0) + (gain - 1.0) * cs - 2.0 * np.sqrt(gain) * alpha)\n",
    "\n",
    "    b /= a[0]\n",
    "    a /= a[0]\n",
    "\n",
    "    return b, a"
   ]
  },
  {
   "cell_type": "code",
   "execution_count": null,
   "id": "e74aa23f",
   "metadata": {},
   "outputs": [],
   "source": [
    "os.listdir()"
   ]
  },
  {
   "cell_type": "code",
   "execution_count": null,
   "id": "43e6a3ad",
   "metadata": {},
   "outputs": [],
   "source": [
    "audio, fs = sf.read('/home/ubuntu/Data/microson_v1/train/reverberant/10013_9951_000001.wav')"
   ]
  },
  {
   "cell_type": "code",
   "execution_count": null,
   "id": "3feaf0ed",
   "metadata": {},
   "outputs": [],
   "source": [
    "Audio(audio.T, rate=fs)"
   ]
  },
  {
   "cell_type": "code",
   "execution_count": null,
   "id": "f5ce1d06",
   "metadata": {},
   "outputs": [],
   "source": [
    "ku100 = sofar.read_sofa('KU100_New_128_noALFE_cut_now.sofa')"
   ]
  },
  {
   "cell_type": "code",
   "execution_count": null,
   "id": "a7b018e7",
   "metadata": {},
   "outputs": [],
   "source": [
    "ha = sofar.read_sofa('RIC_Front_Omni_128_noALFE_cut_now.sofa')"
   ]
  },
  {
   "cell_type": "code",
   "execution_count": null,
   "id": "fe0c29bb",
   "metadata": {},
   "outputs": [],
   "source": [
    "d2 = scipy.fft.ifft(scipy.fft.fft(np.mean(np.mean(ku100.Data_IR, axis=0), axis=0)) / scipy.fft.fft(np.mean(np.mean(ha.Data_IR, axis=0), axis=0)))"
   ]
  },
  {
   "cell_type": "code",
   "execution_count": null,
   "id": "8803b99f",
   "metadata": {},
   "outputs": [],
   "source": [
    "# We plot the inverse of the ku100_ha_test:\n",
    "\n",
    "ku100_ha_test_f = scipy.fft.fft(np.mean(np.mean(ha.Data_IR, axis=0), axis=0))\n",
    "ku100_test_f = scipy.fft.fft(np.mean(np.mean(ku100.Data_IR, axis=0), axis=0))\n",
    "\n",
    "\n",
    "\n",
    "inv_ha_f = 1/ku100_ha_test_f\n",
    "inv_f = 1/ku100_test_f\n",
    "\n",
    "plt.plot(np.linspace(-8000, 8000, 128), np.log10(np.abs(ku100_ha_test_f)))\n",
    "plt.plot(np.linspace(-8000, 8000, 128), np.log10(np.abs(ku100_test_f)))\n",
    "\n",
    "\n",
    "plt.plot(np.linspace(-8000, 8000, 128), np.log10(np.abs(inv_ha_f)))\n",
    "plt.plot(np.linspace(-8000, 8000, 128), np.log10(np.abs(inv_f)))\n",
    "plt.title('Frequency responses')\n",
    "plt.legend(['KU100+HA', 'KU100', 'KU100+HA inverse', 'KU100 inverse'])\n",
    "plt.xlim([0 , 8000]);\n",
    "plt.grid(True)"
   ]
  },
  {
   "cell_type": "code",
   "execution_count": null,
   "id": "f75a4cc8",
   "metadata": {},
   "outputs": [],
   "source": [
    "#b, a = sig.iirnotch(w0 = 2300, Q=1.8, fs=16000)\n",
    "w, h = scipy.signal.freqz(np.real(d2))\n",
    "plt.plot(np.linspace(20, 8000, 512), 20*np.log10(abs(h)))\n",
    "\n",
    "#w2, h2 = scipy.signal.freqz(b,a)\n",
    "#new_notch = np.array([sig.lfilter(b, a, audio[:, 0]), sig.lfilter(b, a, audio[:, 1])])\n",
    "#plt.plot(np.linspace(20, 8000, 512), 20*np.log10(abs(h2)))\n",
    "b_s, a_s = shelving(4000, 16000, np.sqrt(3.), 2.0)\n",
    "w_s, h_s = sig.freqz(b_s, a_s)\n",
    "plt.plot(np.linspace(20, 8000, 512), 20*np.log10(abs(h_s)))\n",
    "\n",
    "b_hb, a_hb = bell(2300, 16000, np.power(10, -18/20), 8.)\n",
    "w_hb, h_hb = sig.freqz(b_hb, a_hb)\n",
    "\n",
    "\n",
    "plt.plot(np.linspace(20, 8000, 512), 20*np.log10(abs(h_hb)))\n",
    "\n",
    "plt.legend(['target filter', 'hi-shelf', 'bell'])\n",
    "plt.xlabel('freq[Hz]')\n",
    "plt.ylabel('dB');"
   ]
  },
  {
   "cell_type": "code",
   "execution_count": null,
   "id": "72d560a1",
   "metadata": {},
   "outputs": [],
   "source": [
    "Audio(audio.T, rate=fs)"
   ]
  },
  {
   "cell_type": "code",
   "execution_count": null,
   "id": "47a49a9d",
   "metadata": {},
   "outputs": [],
   "source": [
    "high_bell_filtered = np.array([sig.lfilter(b_hb, a_hb, audio[:, 0]), sig.lfilter(b_hb, a_hb, audio[:, 1])]).T\n",
    "all_filtered = np.array([sig.lfilter(b_s, a_s, high_bell_filtered[:,0]), sig.lfilter(b_s, a_s, high_bell_filtered[:,1])]).T\n",
    "\n",
    "Audio(all_filtered.T, rate=fs)"
   ]
  },
  {
   "cell_type": "code",
   "execution_count": null,
   "id": "b6cca1c1",
   "metadata": {},
   "outputs": [],
   "source": [
    "Audio(high_bell_filtered.T, rate=fs)"
   ]
  },
  {
   "cell_type": "code",
   "execution_count": null,
   "id": "5c10b522",
   "metadata": {},
   "outputs": [],
   "source": [
    "sig.lfilter(np.real(d2), np.imag(d2), audio)"
   ]
  },
  {
   "cell_type": "code",
   "execution_count": null,
   "id": "934e9b70",
   "metadata": {},
   "outputs": [],
   "source": [
    "Audio(a1, rate=fs)"
   ]
  },
  {
   "cell_type": "code",
   "execution_count": null,
   "id": "c2535f63",
   "metadata": {},
   "outputs": [],
   "source": []
  },
  {
   "cell_type": "code",
   "execution_count": null,
   "id": "639060c0",
   "metadata": {},
   "outputs": [],
   "source": [
    "Audio(new_notch, rate=fs)"
   ]
  },
  {
   "cell_type": "code",
   "execution_count": null,
   "id": "166ab8af",
   "metadata": {},
   "outputs": [],
   "source": [
    "audio.shape"
   ]
  },
  {
   "cell_type": "code",
   "execution_count": null,
   "id": "f5b5d392",
   "metadata": {},
   "outputs": [],
   "source": [
    "w, h = scipy.signal.freqz(np.real(d2))\n",
    "plt.semilogx(np.linspace(20, 8000, 512), 20*np.log10(abs(h)))\n",
    "w2, h2 = scipy.signal.freqz(b,a)\n",
    "plt.semilogx(np.linspace(20, 8000, 512), 20*np.log10(abs(h2)))\n",
    "\n",
    "\n"
   ]
  },
  {
   "cell_type": "code",
   "execution_count": null,
   "id": "02b3c50b",
   "metadata": {},
   "outputs": [],
   "source": []
  },
  {
   "cell_type": "code",
   "execution_count": null,
   "id": "d3026d63",
   "metadata": {},
   "outputs": [],
   "source": [
    "b, a = sig.iirnotch(w0 = 2500, Q=3.2, fs=16000)\n",
    "\n",
    "w, h = scipy.signal.freqz(np.real(d2))\n",
    "plt.plot(np.linspace(20, 8000, 512), 20*np.log10(abs(h)))\n",
    "w2, h2 = scipy.signal.freqz(b,a)\n",
    "new_notch = np.array([sig.lfilter(b, a, audio[:, 0]), sig.lfilter(b, a, audio[:, 1])])\n",
    "plt.plot(np.linspace(20, 8000, 512), 20*np.log10(abs(h2)))\n",
    "\n",
    "\n"
   ]
  },
  {
   "cell_type": "code",
   "execution_count": null,
   "id": "3e2973aa",
   "metadata": {},
   "outputs": [],
   "source": [
    "new_notch2 = np.array([sig.filtfilt(b, a, audio[:, 0]), sig.filtfilt(b, a, audio[:, 1])])"
   ]
  },
  {
   "cell_type": "code",
   "execution_count": null,
   "id": "1c814fa1",
   "metadata": {
    "scrolled": true
   },
   "outputs": [],
   "source": [
    "b, a = sig.iirnotch(w0 = 2300, Q=2.2, fs=16000)\n",
    "\n",
    "w, h = scipy.signal.freqz(np.real(d2))\n",
    "plt.plot(np.linspace(20, 8000, 512), 20*np.log10(abs(h)))\n",
    "w2, h2 = scipy.signal.freqz(b,a)\n",
    "new_notch = np.array([sig.lfilter(b, a, audio[:, 0]), sig.lfilter(b, a, audio[:, 1])])\n",
    "plt.plot(np.linspace(20, 8000, 512), 20*np.log10(abs(h2)))\n",
    "\n"
   ]
  },
  {
   "cell_type": "code",
   "execution_count": null,
   "id": "7878240e",
   "metadata": {},
   "outputs": [],
   "source": [
    "Audio(new_notch, rate=fs)"
   ]
  },
  {
   "cell_type": "code",
   "execution_count": null,
   "id": "f805d482",
   "metadata": {},
   "outputs": [],
   "source": [
    "Audio(new_notch, rate=fs)"
   ]
  },
  {
   "cell_type": "code",
   "execution_count": null,
   "id": "e064df24",
   "metadata": {},
   "outputs": [],
   "source": []
  },
  {
   "cell_type": "code",
   "execution_count": null,
   "id": "04cdb4c8",
   "metadata": {},
   "outputs": [],
   "source": [
    "def butter_bandpass(lowcut, highcut, fs, order=5):\n",
    "    return scipy.signal.butter(order, [lowcut, highcut], fs=fs, btype='band')\n",
    "\n",
    "fs = 16000.0\n",
    "lowcut = 2000.0\n",
    "highcut = 3000.0\n",
    "b, a = butter_bandpass(lowcut, highcut, fs, order=3)"
   ]
  },
  {
   "cell_type": "code",
   "execution_count": null,
   "id": "dbce22d8",
   "metadata": {},
   "outputs": [],
   "source": [
    "d1_bandpassed = scipy.signal.lfilter(b, a, d1)"
   ]
  },
  {
   "cell_type": "code",
   "execution_count": null,
   "id": "f0545e9e",
   "metadata": {},
   "outputs": [],
   "source": [
    "w, h = scipy.signal.freqz(d1_bandpassed)\n",
    "plt.plot(np.linspace(20, 8000, 512), 20*np.log10(abs(h)))"
   ]
  },
  {
   "cell_type": "code",
   "execution_count": null,
   "id": "e3b91637",
   "metadata": {},
   "outputs": [],
   "source": []
  },
  {
   "cell_type": "code",
   "execution_count": null,
   "id": "0d2c3721",
   "metadata": {},
   "outputs": [],
   "source": []
  },
  {
   "cell_type": "code",
   "execution_count": null,
   "id": "db1e1835",
   "metadata": {},
   "outputs": [],
   "source": []
  },
  {
   "cell_type": "code",
   "execution_count": null,
   "id": "99ff1c95",
   "metadata": {},
   "outputs": [],
   "source": [
    "Audio(new_notch2, rate=fs)"
   ]
  }
 ],
 "metadata": {
  "kernelspec": {
   "display_name": "LibriMix3D",
   "language": "python",
   "name": "librimix3d"
  },
  "language_info": {
   "codemirror_mode": {
    "name": "ipython",
    "version": 3
   },
   "file_extension": ".py",
   "mimetype": "text/x-python",
   "name": "python",
   "nbconvert_exporter": "python",
   "pygments_lexer": "ipython3",
   "version": "3.8.10"
  }
 },
 "nbformat": 4,
 "nbformat_minor": 5
}

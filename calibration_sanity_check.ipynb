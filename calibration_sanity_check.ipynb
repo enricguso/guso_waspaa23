{
 "cells": [
  {
   "cell_type": "code",
   "execution_count": 16,
   "id": "ea25d9d9",
   "metadata": {},
   "outputs": [],
   "source": [
    "import soundfile as sf\n",
    "import numpy as np\n",
    "import matplotlib.pyplot as plt"
   ]
  },
  {
   "cell_type": "code",
   "execution_count": 12,
   "id": "727ea58e",
   "metadata": {},
   "outputs": [],
   "source": [
    "cal_offset = 137.9"
   ]
  },
  {
   "cell_type": "code",
   "execution_count": 4,
   "id": "e85253f9",
   "metadata": {},
   "outputs": [],
   "source": [
    "noise, sr = sf.read('noise_calibration_81_1.wav')"
   ]
  },
  {
   "cell_type": "code",
   "execution_count": 40,
   "id": "89af074c",
   "metadata": {},
   "outputs": [],
   "source": [
    "dbfs = 20*np.log10(abs(noise) + np.finfo('float64').resolution)"
   ]
  },
  {
   "cell_type": "code",
   "execution_count": 56,
   "id": "e18503f9",
   "metadata": {},
   "outputs": [],
   "source": [
    "db2 = 20*np.log10(np.sqrt(np.mean(noise ** 2)))"
   ]
  },
  {
   "cell_type": "code",
   "execution_count": 57,
   "id": "16699f58",
   "metadata": {},
   "outputs": [
    {
     "data": {
      "text/plain": [
       "81.27755258847978"
      ]
     },
     "execution_count": 57,
     "metadata": {},
     "output_type": "execute_result"
    }
   ],
   "source": [
    "db2 + cal_offset"
   ]
  }
 ],
 "metadata": {
  "kernelspec": {
   "display_name": "ha_ex",
   "language": "python",
   "name": "ha_ex"
  },
  "language_info": {
   "codemirror_mode": {
    "name": "ipython",
    "version": 3
   },
   "file_extension": ".py",
   "mimetype": "text/x-python",
   "name": "python",
   "nbconvert_exporter": "python",
   "pygments_lexer": "ipython3",
   "version": "3.7.7"
  }
 },
 "nbformat": 4,
 "nbformat_minor": 5
}

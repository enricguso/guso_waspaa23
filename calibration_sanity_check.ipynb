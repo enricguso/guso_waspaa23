{
 "cells": [
  {
   "cell_type": "code",
   "execution_count": null,
   "id": "ea25d9d9",
   "metadata": {},
   "outputs": [],
   "source": [
    "import soundfile as sf\n",
    "import numpy as np\n",
    "import matplotlib.pyplot as plt"
   ]
  },
  {
   "cell_type": "code",
   "execution_count": null,
   "id": "926498ce",
   "metadata": {},
   "outputs": [],
   "source": [
    "cal_offset2 = 127.9"
   ]
  },
  {
   "cell_type": "code",
   "execution_count": null,
   "id": "1f9274ba",
   "metadata": {},
   "outputs": [],
   "source": [
    "sample, sr = sf.read('/home/ubuntu/Data/ha_listening_situations/recordings/ku_recordings/001_ku100/001_ku100_minus_meeting_0deg.wav')"
   ]
  },
  {
   "cell_type": "code",
   "execution_count": null,
   "id": "ecf1bf08",
   "metadata": {},
   "outputs": [],
   "source": [
    "dbs = 20*np.log10(np.sqrt(np.mean(sample ** 2))) + cal_offset2"
   ]
  },
  {
   "cell_type": "code",
   "execution_count": null,
   "id": "05be6324",
   "metadata": {},
   "outputs": [],
   "source": [
    "dbs"
   ]
  }
 ],
 "metadata": {
  "kernelspec": {
   "display_name": "LibriMix3D",
   "language": "python",
   "name": "librimix3d"
  },
  "language_info": {
   "codemirror_mode": {
    "name": "ipython",
    "version": 3
   },
   "file_extension": ".py",
   "mimetype": "text/x-python",
   "name": "python",
   "nbconvert_exporter": "python",
   "pygments_lexer": "ipython3",
   "version": "3.8.10"
  }
 },
 "nbformat": 4,
 "nbformat_minor": 5
}
